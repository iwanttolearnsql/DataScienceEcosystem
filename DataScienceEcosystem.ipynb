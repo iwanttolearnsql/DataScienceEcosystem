{
 "cells": [
  {
   "cell_type": "code",
   "execution_count": null,
   "id": "aa557429-dd69-4e47-8069-2b9bd6b78c6a",
   "metadata": {},
   "outputs": [],
   "source": [
    "# Data Science Tools and Ecosystem"
   ]
  },
  {
   "cell_type": "markdown",
   "id": "12c926d9-e220-49d1-accd-482914ee459e",
   "metadata": {},
   "source": [
    "# Data Science Tools and Ecosystem"
   ]
  },
  {
   "cell_type": "code",
   "execution_count": null,
   "id": "c4fea20e-cda0-4a81-800b-c17590ce2985",
   "metadata": {},
   "outputs": [],
   "source": [
    "In this notebook, Data Science Tools and Ecosystem are summarized."
   ]
  },
  {
   "cell_type": "markdown",
   "id": "cf6a7a31-75d1-4874-a506-71562647a799",
   "metadata": {},
   "source": [
    "In this notebook, Data Science Tools and Ecosystem are summarized."
   ]
  },
  {
   "cell_type": "code",
   "execution_count": null,
   "id": "e3501a42-4581-4be5-a6b2-e703a8117de2",
   "metadata": {},
   "outputs": [],
   "source": [
    "# Some of the popular languages that Data Scientists use are:\n",
    "1. Python\n",
    "2. R\n",
    "3. Javascript"
   ]
  },
  {
   "cell_type": "markdown",
   "id": "c24afd5b-7960-4988-b475-ff6a882ce720",
   "metadata": {},
   "source": [
    "# Some of the popular languages that Data Scientists use are:\n",
    "1. Python\n",
    "2. R\n",
    "3. Javascript"
   ]
  },
  {
   "cell_type": "code",
   "execution_count": null,
   "id": "f6d2f8d1-a978-46f0-9df4-8b488f61e419",
   "metadata": {},
   "outputs": [],
   "source": [
    "# Some of the commonly used libraries used by Data Scientists include:\n",
    " 1. Pandas\n",
    " 2. Numpy\n",
    " 3. scikit-learn"
   ]
  },
  {
   "cell_type": "markdown",
   "id": "7f0ae87c-89c2-4c22-ac7c-8ee79056693a",
   "metadata": {},
   "source": [
    "# Some of the commonly used libraries used by Data Scientists include:\n",
    " 1. Pandas\n",
    " 2. Numpy\n",
    " 3. scikit-learn"
   ]
  },
  {
   "cell_type": "code",
   "execution_count": null,
   "id": "6122457a-9acc-45ab-8e21-5e97434017cd",
   "metadata": {},
   "outputs": [],
   "source": [
    "|Data Science Tools|\n",
    "|-|\n",
    "|MySQL|\n",
    "|MongoDB|\n",
    "|jupyterlab|"
   ]
  },
  {
   "cell_type": "markdown",
   "id": "0635b655-f018-42ac-88ff-b3b3e88c417a",
   "metadata": {},
   "source": [
    "|Data Science Tools|\n",
    "|-|\n",
    "|MySQL|\n",
    "|MongoDB|\n",
    "|jupyterlab|"
   ]
  },
  {
   "cell_type": "markdown",
   "id": "29086113-94e0-4838-bf42-675e89c3f16b",
   "metadata": {},
   "source": [
    "### Below are a few examples of evaluating arithmetic expressions in Python."
   ]
  },
  {
   "cell_type": "code",
   "execution_count": 1,
   "id": "68a266b0-5e4f-43ce-9939-021725b66afc",
   "metadata": {
    "tags": []
   },
   "outputs": [
    {
     "data": {
      "text/plain": [
       "3"
      ]
     },
     "execution_count": 1,
     "metadata": {},
     "output_type": "execute_result"
    }
   ],
   "source": [
    "7-introarithmetic"
   ]
  },
  {
   "cell_type": "markdown",
   "id": "e503c512-5204-4215-b6da-fe41925642fa",
   "metadata": {},
   "source": [
    "This a simple arithmetic expression to mutiply then add integers"
   ]
  },
  {
   "cell_type": "code",
   "execution_count": 2,
   "id": "ce22216e-07ce-475a-b925-1f50ed5ddf8d",
   "metadata": {
    "tags": []
   },
   "outputs": [],
   "source": [
    "result=(3*4)+5"
   ]
  },
  {
   "cell_type": "code",
   "execution_count": 3,
   "id": "100d2ec5-08d2-448d-882a-4616610c4a47",
   "metadata": {
    "tags": []
   },
   "outputs": [
    {
     "data": {
      "text/plain": [
       "17"
      ]
     },
     "execution_count": 3,
     "metadata": {},
     "output_type": "execute_result"
    }
   ],
   "source": [
    "result"
   ]
  },
  {
   "cell_type": "code",
   "execution_count": 4,
   "id": "21822d02-5adc-43a5-9e20-5ba6aec55825",
   "metadata": {
    "tags": []
   },
   "outputs": [
    {
     "data": {
      "text/plain": [
       "True"
      ]
     },
     "execution_count": 4,
     "metadata": {},
     "output_type": "execute_result"
    }
   ],
   "source": [
    "result==17"
   ]
  },
  {
   "cell_type": "markdown",
   "id": "adc568ea-0e65-495c-addb-39a6459c3ce8",
   "metadata": {},
   "source": [
    " This will convert 200 minutes to hours by diving by 60"
   ]
  },
  {
   "cell_type": "code",
   "execution_count": 5,
   "id": "beee3f9f-7885-4a96-9d84-8efea93b0bb5",
   "metadata": {
    "tags": []
   },
   "outputs": [
    {
     "data": {
      "text/plain": [
       "3.3333333333333335"
      ]
     },
     "execution_count": 5,
     "metadata": {},
     "output_type": "execute_result"
    }
   ],
   "source": [
    "200/60"
   ]
  },
  {
   "cell_type": "markdown",
   "id": "ab33d492-43ef-4be4-b53a-fb72b23612a2",
   "metadata": {
    "tags": []
   },
   "source": [
    "**Objectives:**\n",
    "List popular languages for Data Science.\n",
    "- Python \n",
    "- R\n",
    "- SQL"
   ]
  },
  {
   "cell_type": "markdown",
   "id": "0e9b98c0-6523-4100-9a00-06783e799303",
   "metadata": {},
   "source": [
    "## Author \n",
    "name : ABC Cheung"
   ]
  },
  {
   "cell_type": "code",
   "execution_count": null,
   "id": "0a7137cc-c23c-4529-94b4-9b6f79a208fc",
   "metadata": {},
   "outputs": [],
   "source": []
  }
 ],
 "metadata": {
  "kernelspec": {
   "display_name": "Python",
   "language": "python",
   "name": "conda-env-python-py"
  },
  "language_info": {
   "codemirror_mode": {
    "name": "ipython",
    "version": 3
   },
   "file_extension": ".py",
   "mimetype": "text/x-python",
   "name": "python",
   "nbconvert_exporter": "python",
   "pygments_lexer": "ipython3",
   "version": "3.7.12"
  }
 },
 "nbformat": 4,
 "nbformat_minor": 5
}
